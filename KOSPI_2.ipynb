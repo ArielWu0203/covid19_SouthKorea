{
 "cells": [
  {
   "cell_type": "code",
   "execution_count": 1,
   "metadata": {},
   "outputs": [
    {
     "name": "stderr",
     "output_type": "stream",
     "text": [
      "/home/tingyu/.local/lib/python3.7/site-packages/pandas/compat/__init__.py:117: UserWarning: Could not import the lzma module. Your installed Python is incomplete. Attempting to use lzma compression will result in a RuntimeError.\n",
      "  warnings.warn(msg)\n"
     ]
    }
   ],
   "source": [
    "import time\n",
    "import numpy as np\n",
    "import pandas as pd\n",
    "\n",
    "EXECUTION_START_TIME = time.time()\n",
    "\n",
    "time = pd.read_csv('data/Time.csv')\n",
    "kospi = pd.read_csv('data/KOSPI.csv')"
   ]
  },
  {
   "cell_type": "code",
   "execution_count": 2,
   "metadata": {},
   "outputs": [],
   "source": [
    "# import\n",
    "pd.options.mode.chained_assignment = None      # 解決會噴 warning 的狀況\n",
    "\n",
    "from sklearn.impute import SimpleImputer       # 匯入填補缺失值的工具\n",
    "from sklearn.preprocessing import LabelEncoder # 匯入 Label Encoder\n",
    "from sklearn import preprocessing\n",
    "import matplotlib.pyplot as plt\n",
    "import seaborn as sns\n",
    "import datetime"
   ]
  },
  {
   "cell_type": "code",
   "execution_count": 3,
   "metadata": {},
   "outputs": [
    {
     "name": "stdout",
     "output_type": "stream",
     "text": [
      "count            133\n",
      "unique           133\n",
      "top       2020-05-02\n",
      "freq               1\n",
      "Name: date, dtype: object\n"
     ]
    }
   ],
   "source": [
    "print(time['date'].describe())"
   ]
  },
  {
   "cell_type": "markdown",
   "metadata": {},
   "source": [
    "## 轉換日期資料\n",
    "把日期資料型態轉換成python Timestamp"
   ]
  },
  {
   "cell_type": "code",
   "execution_count": 4,
   "metadata": {},
   "outputs": [],
   "source": [
    "time[\"date\"] = pd.to_datetime(time[\"date\"], format='%Y-%m-%d')\n",
    "kospi[\"Date\"] = pd.to_datetime(kospi[\"Date\"], format='%b %d, %Y')"
   ]
  },
  {
   "cell_type": "code",
   "execution_count": 5,
   "metadata": {},
   "outputs": [
    {
     "name": "stdout",
     "output_type": "stream",
     "text": [
      "2,181.87\n",
      "2020-06-05 00:00:00\n",
      "2,175.17\n",
      "2020-01-02 00:00:00\n"
     ]
    }
   ],
   "source": [
    "print(kospi[\"Price\"][0])\n",
    "print(kospi[\"Date\"][0])\n",
    "\n",
    "kospi = kospi.iloc[::-1]\n",
    "kospi = kospi.reset_index(drop=True)\n",
    "\n",
    "print(kospi[\"Price\"][0])\n",
    "print(kospi[\"Date\"][0])"
   ]
  },
  {
   "cell_type": "markdown",
   "metadata": {},
   "source": [
    "## 轉換數值資料\n",
    "把數值轉換成類型"
   ]
  },
  {
   "cell_type": "code",
   "execution_count": 6,
   "metadata": {},
   "outputs": [],
   "source": [
    "for i in range(0, len(kospi.index)):\n",
    "    kospi['Change %'][i] = 0 if kospi['Change %'][i][0] =='-' else 1"
   ]
  },
  {
   "cell_type": "markdown",
   "metadata": {},
   "source": [
    "## 整理確診資料\n",
    "將累積確診資料換算成每日確診人數"
   ]
  },
  {
   "cell_type": "code",
   "execution_count": 7,
   "metadata": {},
   "outputs": [],
   "source": [
    "time[\"diff confirmed\"] = 0\n",
    "time[\"diff confirmed\"][0] = time[\"confirmed\"][0]\n",
    "pre = time[\"confirmed\"][0]\n",
    "\n",
    "for i in range(1, len(time.index)):\n",
    "    time[\"diff confirmed\"][i] = time[\"confirmed\"][i] - pre\n",
    "    pre = time[\"confirmed\"][i]"
   ]
  },
  {
   "cell_type": "markdown",
   "metadata": {},
   "source": [
    "## 彙整資料\n",
    "把確診和kospi資料合併"
   ]
  },
  {
   "cell_type": "code",
   "execution_count": 8,
   "metadata": {},
   "outputs": [
    {
     "name": "stdout",
     "output_type": "stream",
     "text": [
      "15\n",
      "16\n",
      "17\n",
      "18\n",
      "19\n",
      "20\n",
      "21\n",
      "22\n",
      "23\n",
      "24\n",
      "25\n",
      "26\n",
      "27\n",
      "28\n",
      "29\n",
      "30\n",
      "31\n",
      "32\n",
      "33\n",
      "34\n",
      "35\n",
      "36\n",
      "37\n",
      "38\n",
      "39\n",
      "40\n",
      "41\n",
      "42\n",
      "43\n",
      "44\n",
      "45\n",
      "46\n",
      "47\n",
      "48\n",
      "49\n",
      "50\n",
      "51\n",
      "52\n",
      "53\n",
      "54\n",
      "55\n",
      "56\n",
      "57\n",
      "58\n",
      "59\n",
      "60\n",
      "61\n",
      "62\n",
      "63\n",
      "64\n",
      "65\n",
      "66\n",
      "67\n",
      "68\n",
      "69\n",
      "70\n",
      "71\n",
      "72\n",
      "73\n",
      "74\n",
      "75\n",
      "76\n",
      "77\n",
      "78\n",
      "79\n",
      "80\n",
      "81\n",
      "82\n",
      "83\n",
      "84\n",
      "85\n",
      "86\n",
      "87\n",
      "88\n",
      "89\n",
      "90\n",
      "91\n",
      "92\n",
      "93\n",
      "94\n",
      "95\n",
      "96\n",
      "97\n",
      "98\n",
      "99\n",
      "100\n",
      "101\n"
     ]
    }
   ],
   "source": [
    "kospi[\"comfirmed_1\"] = np.nan\n",
    "kospi[\"comfirmed_2\"] = np.nan\n",
    "kospi[\"comfirmed_3\"] = np.nan\n",
    "kospi[\"groth_1\"] = np.nan\n",
    "kospi[\"groth_2\"] = np.nan\n",
    "kospi[\"groth_3\"] = np.nan\n",
    "\n",
    "for i in range(0, len(kospi.index)):\n",
    "    if kospi[\"Date\"][i] < time[\"date\"][0]+datetime.timedelta(days=3):\n",
    "        continue\n",
    "    if kospi[\"Date\"][i]-datetime.timedelta(days=1) > time[\"date\"][len(time.index)-1]:\n",
    "        continue\n",
    "    if i-3<0:\n",
    "        continue\n",
    "    date = kospi[\"Date\"][i]\n",
    "    kospi[\"comfirmed_1\"][i] = time['diff confirmed'][time[\"date\"]==(date-datetime.timedelta(days=1))]\n",
    "    kospi[\"comfirmed_2\"][i] = time['diff confirmed'][time[\"date\"]==(date-datetime.timedelta(days=2))]\n",
    "    kospi[\"comfirmed_3\"][i] = time['diff confirmed'][time[\"date\"]==(date-datetime.timedelta(days=3))]\n",
    "    kospi[\"groth_1\"][i] = kospi['Change %'][i-1]\n",
    "    kospi[\"groth_2\"][i] = kospi['Change %'][i-2]\n",
    "    kospi[\"groth_3\"][i] = kospi['Change %'][i-3]\n",
    "\n",
    "\n",
    "kospi = kospi.dropna()\n",
    "kospi = kospi.reset_index(drop=True)"
   ]
  },
  {
   "cell_type": "markdown",
   "metadata": {},
   "source": [
    "## 選取資料"
   ]
  },
  {
   "cell_type": "code",
   "execution_count": 9,
   "metadata": {},
   "outputs": [],
   "source": [
    "x = kospi[[\"comfirmed_1\", \"comfirmed_2\", \"comfirmed_3\"]]\n",
    "y = kospi[[\"Change %\"]]\n",
    "date = kospi[[\"Date\"]]"
   ]
  },
  {
   "cell_type": "code",
   "execution_count": 10,
   "metadata": {},
   "outputs": [
    {
     "name": "stdout",
     "output_type": "stream",
     "text": [
      "       comfirmed_1  comfirmed_2  comfirmed_3\n",
      "count    87.000000    87.000000    87.000000\n",
      "mean     86.022989    91.597701    93.356322\n",
      "std     138.508918   154.880484   161.273708\n",
      "min       0.000000     0.000000     0.000000\n",
      "25%       8.000000     7.000000     7.000000\n",
      "50%      27.000000    27.000000    25.000000\n",
      "75%      99.000000   100.500000    99.000000\n",
      "max     600.000000   813.000000   813.000000\n"
     ]
    }
   ],
   "source": [
    "print(x.describe())"
   ]
  }
 ],
 "metadata": {
  "kernelspec": {
   "display_name": "Python 3",
   "language": "python",
   "name": "python3"
  },
  "language_info": {
   "codemirror_mode": {
    "name": "ipython",
    "version": 3
   },
   "file_extension": ".py",
   "mimetype": "text/x-python",
   "name": "python",
   "nbconvert_exporter": "python",
   "pygments_lexer": "ipython3",
   "version": "3.7.0"
  }
 },
 "nbformat": 4,
 "nbformat_minor": 4
}
