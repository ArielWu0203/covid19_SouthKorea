{
 "cells": [
  {
   "cell_type": "code",
   "execution_count": 1,
   "metadata": {},
   "outputs": [
    {
     "name": "stderr",
     "output_type": "stream",
     "text": [
      "/home/tingyu/.local/lib/python3.7/site-packages/pandas/compat/__init__.py:117: UserWarning: Could not import the lzma module. Your installed Python is incomplete. Attempting to use lzma compression will result in a RuntimeError.\n",
      "  warnings.warn(msg)\n"
     ]
    }
   ],
   "source": [
    "import time\n",
    "import numpy as np\n",
    "import pandas as pd\n",
    "\n",
    "EXECUTION_START_TIME = time.time()\n",
    "\n",
    "time = pd.read_csv('data/Time.csv')\n",
    "kospi = pd.read_csv('data/KOSPI.csv')"
   ]
  },
  {
   "cell_type": "code",
   "execution_count": 2,
   "metadata": {},
   "outputs": [],
   "source": [
    "# import\n",
    "pd.options.mode.chained_assignment = None      # 解決會噴 warning 的狀況\n",
    "\n",
    "from sklearn.impute import SimpleImputer       # 匯入填補缺失值的工具\n",
    "from sklearn.preprocessing import LabelEncoder # 匯入 Label Encoder\n",
    "from sklearn import preprocessing\n",
    "import matplotlib.pyplot as plt\n",
    "import seaborn as sns\n",
    "import datetime"
   ]
  },
  {
   "cell_type": "code",
   "execution_count": 3,
   "metadata": {},
   "outputs": [
    {
     "name": "stdout",
     "output_type": "stream",
     "text": [
      "count            133\n",
      "unique           133\n",
      "top       2020-02-11\n",
      "freq               1\n",
      "Name: date, dtype: object\n"
     ]
    }
   ],
   "source": [
    "print(time['date'].describe())"
   ]
  },
  {
   "cell_type": "markdown",
   "metadata": {},
   "source": [
    "## 轉換日期資料\n",
    "把日期資料型態轉換成python Timestamp"
   ]
  },
  {
   "cell_type": "code",
   "execution_count": 4,
   "metadata": {},
   "outputs": [],
   "source": [
    "time[\"date\"] = pd.to_datetime(time[\"date\"], format='%Y-%m-%d')\n",
    "kospi[\"Date\"] = pd.to_datetime(kospi[\"Date\"], format='%b %d, %Y')"
   ]
  },
  {
   "cell_type": "code",
   "execution_count": 5,
   "metadata": {},
   "outputs": [
    {
     "name": "stdout",
     "output_type": "stream",
     "text": [
      "2,181.87\n",
      "2020-06-05 00:00:00\n",
      "2,175.17\n",
      "2020-01-02 00:00:00\n"
     ]
    }
   ],
   "source": [
    "print(kospi[\"Price\"][0])\n",
    "print(kospi[\"Date\"][0])\n",
    "\n",
    "kospi = kospi.iloc[::-1]\n",
    "kospi = kospi.reset_index(drop=True)\n",
    "\n",
    "print(kospi[\"Price\"][0])\n",
    "print(kospi[\"Date\"][0])"
   ]
  },
  {
   "cell_type": "markdown",
   "metadata": {},
   "source": [
    "## 轉換數值資料\n",
    "把數值轉換成類型"
   ]
  },
  {
   "cell_type": "code",
   "execution_count": 6,
   "metadata": {},
   "outputs": [],
   "source": [
    "for i in range(0, len(kospi.index)):\n",
    "    kospi['Change %'][i] = 0 if kospi['Change %'][i][0] =='-' else 1"
   ]
  },
  {
   "cell_type": "markdown",
   "metadata": {},
   "source": [
    "## 整理確診資料\n",
    "將累積確診資料換算成每日確診人數"
   ]
  },
  {
   "cell_type": "code",
   "execution_count": 7,
   "metadata": {},
   "outputs": [],
   "source": [
    "time[\"diff confirmed\"] = 0\n",
    "time[\"diff confirmed\"][0] = time[\"confirmed\"][0]\n",
    "pre = time[\"confirmed\"][0]\n",
    "\n",
    "for i in range(1, len(time.index)):\n",
    "    time[\"diff confirmed\"][i] = time[\"confirmed\"][i] - pre\n",
    "    pre = time[\"confirmed\"][i]"
   ]
  },
  {
   "cell_type": "markdown",
   "metadata": {},
   "source": [
    "## 彙整資料\n",
    "把確診和kospi資料合併"
   ]
  },
  {
   "cell_type": "code",
   "execution_count": 8,
   "metadata": {},
   "outputs": [],
   "source": [
    "kospi[\"comfirmed_1\"] = np.nan\n",
    "kospi[\"comfirmed_2\"] = np.nan\n",
    "kospi[\"comfirmed_3\"] = np.nan\n",
    "kospi[\"groth_1\"] = np.nan\n",
    "kospi[\"groth_2\"] = np.nan\n",
    "kospi[\"groth_3\"] = np.nan\n",
    "\n",
    "for i in range(0, len(kospi.index)):\n",
    "    if kospi[\"Date\"][i] < time[\"date\"][0]+datetime.timedelta(days=3):\n",
    "        continue\n",
    "    if kospi[\"Date\"][i]-datetime.timedelta(days=1) > time[\"date\"][132]:\n",
    "        continue\n",
    "    date = kospi[\"Date\"][i]\n",
    "    kospi[\"comfirmed_1\"][i] = time['diff confirmed'][time[\"date\"]==(date-datetime.timedelta(days=1))]\n",
    "    kospi[\"comfirmed_2\"][i] = time['diff confirmed'][time[\"date\"]==(date-datetime.timedelta(days=2))]\n",
    "    kospi[\"comfirmed_3\"][i] = time['diff confirmed'][time[\"date\"]==(date-datetime.timedelta(days=3))]\n",
    "    kospi[\"groth_1\"][i] = kospi['diff confirmed'][kospi[\"date\"]==(date-datetime.timedelta(days=1))]\n",
    "    kospi[\"groth_2\"][i] = kospi['diff confirmed'][kospi[\"date\"]==(date-datetime.timedelta(days=2))]\n",
    "    kospi[\"groth_3\"][i] = kospi['diff confirmed'][kospi[\"date\"]==(date-datetime.timedelta(days=3))]\n",
    "\n",
    "\n",
    "kospi = kospi.dropna()\n",
    "kospi = kospi.reset_index(drop=True)"
   ]
  },
  {
   "cell_type": "markdown",
   "metadata": {},
   "source": [
    "## 選取資料"
   ]
  },
  {
   "cell_type": "code",
   "execution_count": 9,
   "metadata": {},
   "outputs": [],
   "source": [
    "x = kospi[[\"comfirmed_1\", \"comfirmed_2\", \"comfirmed_3\"]]\n",
    "y = kospi[[\"Change %\"]]\n",
    "date = kospi[[\"Date\"]]"
   ]
  },
  {
   "cell_type": "code",
   "execution_count": 10,
   "metadata": {},
   "outputs": [
    {
     "name": "stdout",
     "output_type": "stream",
     "text": [
      "       comfirmed_1  comfirmed_2  comfirmed_3\n",
      "count    87.000000    87.000000    87.000000\n",
      "mean     86.022989    91.597701    93.356322\n",
      "std     138.508918   154.880484   161.273708\n",
      "min       0.000000     0.000000     0.000000\n",
      "25%       8.000000     7.000000     7.000000\n",
      "50%      27.000000    27.000000    25.000000\n",
      "75%      99.000000   100.500000    99.000000\n",
      "max     600.000000   813.000000   813.000000\n"
     ]
    }
   ],
   "source": [
    "print(x.describe())"
   ]
  }
 ],
 "metadata": {
  "kernelspec": {
   "display_name": "Python 3",
   "language": "python",
   "name": "python3"
  },
  "language_info": {
   "codemirror_mode": {
    "name": "ipython",
    "version": 3
   },
   "file_extension": ".py",
   "mimetype": "text/x-python",
   "name": "python",
   "nbconvert_exporter": "python",
   "pygments_lexer": "ipython3",
   "version": "3.7.0"
  }
 },
 "nbformat": 4,
 "nbformat_minor": 4
}
