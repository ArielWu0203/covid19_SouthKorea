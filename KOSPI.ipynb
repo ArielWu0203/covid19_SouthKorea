{
 "cells": [
  {
   "cell_type": "code",
   "execution_count": 1,
   "metadata": {},
   "outputs": [
    {
     "name": "stderr",
     "output_type": "stream",
     "text": [
      "/home/tingyu/.local/lib/python3.7/site-packages/pandas/compat/__init__.py:117: UserWarning: Could not import the lzma module. Your installed Python is incomplete. Attempting to use lzma compression will result in a RuntimeError.\n",
      "  warnings.warn(msg)\n"
     ]
    }
   ],
   "source": [
    "import time\n",
    "import numpy as np\n",
    "import pandas as pd\n",
    "\n",
    "EXECUTION_START_TIME = time.time()\n",
    "\n",
    "time = pd.read_csv('data/Time.csv')\n",
    "kospi = pd.read_csv('data/KOSPI.csv')"
   ]
  },
  {
   "cell_type": "code",
   "execution_count": 2,
   "metadata": {},
   "outputs": [],
   "source": [
    "# import\n",
    "pd.options.mode.chained_assignment = None      # 解決會噴 warning 的狀況\n",
    "\n",
    "from sklearn.impute import SimpleImputer       # 匯入填補缺失值的工具\n",
    "from sklearn.preprocessing import LabelEncoder # 匯入 Label Encoder\n",
    "from sklearn import preprocessing\n",
    "import matplotlib.pyplot as plt\n",
    "import seaborn as sns\n",
    "import datetime"
   ]
  },
  {
   "cell_type": "code",
   "execution_count": 3,
   "metadata": {},
   "outputs": [
    {
     "name": "stdout",
     "output_type": "stream",
     "text": [
      "count            133\n",
      "unique           133\n",
      "top       2020-03-15\n",
      "freq               1\n",
      "Name: date, dtype: object\n"
     ]
    }
   ],
   "source": [
    "print(time['date'].describe())"
   ]
  },
  {
   "cell_type": "code",
   "execution_count": 4,
   "metadata": {},
   "outputs": [
    {
     "name": "stdout",
     "output_type": "stream",
     "text": [
      "             time           test       negative     confirmed      released  \\\n",
      "count  133.000000     133.000000     133.000000    133.000000    133.000000   \n",
      "mean     5.052632  359469.225564  340087.112782   6861.842105   4431.954887   \n",
      "std      7.465391  292000.869282  283827.966105   4637.109701   4219.005600   \n",
      "min      0.000000       1.000000       0.000000      1.000000      0.000000   \n",
      "25%      0.000000   21586.000000   15116.000000    433.000000     18.000000   \n",
      "50%      0.000000  364942.000000  341332.000000   9241.000000   4144.000000   \n",
      "75%     16.000000  608514.000000  588559.000000  10752.000000   8854.000000   \n",
      "max     16.000000  910822.000000  876060.000000  11468.000000  10405.000000   \n",
      "\n",
      "         deceased  \n",
      "count  133.000000  \n",
      "mean   129.939850  \n",
      "std    109.133207  \n",
      "min      0.000000  \n",
      "25%      2.000000  \n",
      "50%    131.000000  \n",
      "75%    244.000000  \n",
      "max    270.000000  \n"
     ]
    }
   ],
   "source": [
    "print(time.describe())"
   ]
  },
  {
   "cell_type": "code",
   "execution_count": 5,
   "metadata": {},
   "outputs": [],
   "source": [
    "time[\"date\"] = pd.to_datetime(time[\"date\"], format='%Y-%m-%d')\n",
    "kospi[\"Date\"] = pd.to_datetime(kospi[\"Date\"], format='%b %d, %Y')"
   ]
  },
  {
   "cell_type": "code",
   "execution_count": 6,
   "metadata": {},
   "outputs": [
    {
     "name": "stdout",
     "output_type": "stream",
     "text": [
      "2,181.87\n",
      "2020-06-05 00:00:00\n",
      "2,175.17\n",
      "2020-01-02 00:00:00\n"
     ]
    }
   ],
   "source": [
    "print(kospi[\"Price\"][0])\n",
    "print(kospi[\"Date\"][0])\n",
    "\n",
    "kospi = kospi.iloc[::-1]\n",
    "kospi = kospi.reset_index(drop=True)\n",
    "\n",
    "print(kospi[\"Price\"][0])\n",
    "print(kospi[\"Date\"][0])"
   ]
  },
  {
   "cell_type": "code",
   "execution_count": 8,
   "metadata": {},
   "outputs": [],
   "source": [
    "kospi[\"comfirmed_1\"] = 0\n",
    "kospi[\"comfirmed_2\"] = 0\n",
    "kospi[\"comfirmed_3\"] = 0\n",
    "\n",
    "kospi = kospi.replace(0, np.nan)\n",
    "\n",
    "for i in range(0, len(kospi.index)):\n",
    "    if kospi[\"Date\"][i] < time[\"date\"][0]+datetime.timedelta(days=3):\n",
    "        continue\n",
    "    if kospi[\"Date\"][i]-datetime.timedelta(days=1) > time[\"date\"][132]:\n",
    "        continue\n",
    "    date = kospi[\"Date\"][i]\n",
    "    kospi[\"comfirmed_1\"][i] = time['confirmed'][time[\"date\"]==(date-datetime.timedelta(days=1))]\n",
    "    kospi[\"comfirmed_2\"][i] = time['confirmed'][time[\"date\"]==(date-datetime.timedelta(days=2))]\n",
    "    kospi[\"comfirmed_3\"][i] = time['confirmed'][time[\"date\"]==(date-datetime.timedelta(days=3))]\n",
    "\n",
    "kospi = kospi.dropna()\n",
    "kospi = kospi.reset_index(drop=True)"
   ]
  },
  {
   "cell_type": "code",
   "execution_count": null,
   "metadata": {},
   "outputs": [],
   "source": []
  },
  {
   "cell_type": "code",
   "execution_count": null,
   "metadata": {},
   "outputs": [],
   "source": []
  },
  {
   "cell_type": "code",
   "execution_count": null,
   "metadata": {},
   "outputs": [],
   "source": []
  }
 ],
 "metadata": {
  "kernelspec": {
   "display_name": "Python 3",
   "language": "python",
   "name": "python3"
  },
  "language_info": {
   "codemirror_mode": {
    "name": "ipython",
    "version": 3
   },
   "file_extension": ".py",
   "mimetype": "text/x-python",
   "name": "python",
   "nbconvert_exporter": "python",
   "pygments_lexer": "ipython3",
   "version": "3.7.0"
  }
 },
 "nbformat": 4,
 "nbformat_minor": 4
}
